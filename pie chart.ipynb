{
 "cells": [
  {
   "cell_type": "code",
   "execution_count": 1,
   "id": "2b7b9474",
   "metadata": {},
   "outputs": [],
   "source": [
    "import matplotlib.pyplot as plt\n",
    "import matplotlib\n",
    "matplotlib.rcParams['font.family'] = 'Malgun Gothic'\n",
    "matplotlib.rcParams['font.size'] = 15\n",
    "matplotlib.rcParams['axes.unicode_minus'] = False"
   ]
  },
  {
   "cell_type": "code",
   "execution_count": null,
   "id": "62ec7bec",
   "metadata": {},
   "outputs": [],
   "source": [
    "import pandas as pd\n",
    "import numpy as np\n",
    "df = pd.read_excel('owid-covid-data.xlsx', usecols='C:E')\n",
    "df.rename(columns={'location':'국가','date':'일자', 'total_cases':'확진자'}, inplace=True)\n",
    "df = df.fillna(0)\n",
    "df['일자'] = pd.to_datetime(df['일자'])\n",
    "df['일자'] = df['일자'].dt.strftime('%y.%m.%d')\n",
    "df = df[df['일자'] == '22.03.30']\n",
    "df['확진자'] = df['확진자'].astype(int)\n",
    "df"
   ]
  },
  {
   "cell_type": "code",
   "execution_count": null,
   "id": "2eabbdd8",
   "metadata": {},
   "outputs": [],
   "source": [
    "continents = ['Africa', 'Asia', 'Europe', 'European Union', 'High income', 'Upper middle income', 'Low income', \n",
    "              'Lower middle income', 'North America', 'South Africa', 'South America', 'World']\n",
    "filt = df['국가'].isin(continents)\n",
    "df = df[~filt]\n",
    "df"
   ]
  },
  {
   "cell_type": "code",
   "execution_count": null,
   "id": "aeb7b960",
   "metadata": {},
   "outputs": [],
   "source": [
    "df = df.sort_values(by=['확진자'], ascending=0)\n",
    "df_top = df.head(10)\n",
    "df_top"
   ]
  },
  {
   "cell_type": "code",
   "execution_count": null,
   "id": "518720ef",
   "metadata": {},
   "outputs": [],
   "source": [
    "df_etc = df.iloc[10:]\n",
    "df_etc"
   ]
  },
  {
   "cell_type": "code",
   "execution_count": null,
   "id": "5ff78fa8",
   "metadata": {},
   "outputs": [],
   "source": [
    "df_top.set_index('국가', inplace=True)"
   ]
  },
  {
   "cell_type": "code",
   "execution_count": null,
   "id": "cca8d188",
   "metadata": {},
   "outputs": [],
   "source": [
    "df_top.loc['ETC'] = ['22.03.30', df_etc['확진자'].sum()]"
   ]
  },
  {
   "cell_type": "code",
   "execution_count": null,
   "id": "e4d6f393",
   "metadata": {},
   "outputs": [],
   "source": [
    "df_top"
   ]
  },
  {
   "cell_type": "code",
   "execution_count": null,
   "id": "38fdbe54",
   "metadata": {},
   "outputs": [],
   "source": [
    "df_top.reset_index(inplace=True)\n",
    "df_top"
   ]
  },
  {
   "cell_type": "code",
   "execution_count": null,
   "id": "e84064e8",
   "metadata": {},
   "outputs": [],
   "source": [
    "fig = plt.figure(figsize=(8,8))\n",
    "values = df_top['확진자'].tolist()\n",
    "labels = df_top['국가'].tolist()\n",
    "colors = ['#ff0000', '#ffa500', '#ffff00', '#9acd32', '#008000',\n",
    "          '#00ffff', '#0000ff', '#4b0082', '#800080', '#ff00ff', '#808080']\n",
    "plt.pie(values, labels=labels, wedgeprops=dict(width=0.5),\n",
    "        autopct = '%.1f%%', startangle=180, colors=colors, pctdistance = 0.8)\n",
    "plt.show()"
   ]
  }
 ],
 "metadata": {
  "kernelspec": {
   "display_name": "Python 3 (ipykernel)",
   "language": "python",
   "name": "python3"
  },
  "language_info": {
   "codemirror_mode": {
    "name": "ipython",
    "version": 3
   },
   "file_extension": ".py",
   "mimetype": "text/x-python",
   "name": "python",
   "nbconvert_exporter": "python",
   "pygments_lexer": "ipython3",
   "version": "3.9.7"
  }
 },
 "nbformat": 4,
 "nbformat_minor": 5
}
