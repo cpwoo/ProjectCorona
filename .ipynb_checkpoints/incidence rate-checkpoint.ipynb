{
 "cells": [
  {
   "cell_type": "code",
   "execution_count": 1,
   "id": "1cb87d7c",
   "metadata": {},
   "outputs": [],
   "source": [
    "import matplotlib.pyplot as plt\n",
    "import matplotlib\n",
    "matplotlib.rcParams['font.family'] = 'Malgun Gothic'\n",
    "matplotlib.rcParams['font.size'] = 15\n",
    "matplotlib.rcParams['axes.unicode_minus'] = False"
   ]
  },
  {
   "cell_type": "code",
   "execution_count": 2,
   "id": "6a6c0aae",
   "metadata": {},
   "outputs": [
    {
     "data": {
      "text/html": [
       "<div>\n",
       "<style scoped>\n",
       "    .dataframe tbody tr th:only-of-type {\n",
       "        vertical-align: middle;\n",
       "    }\n",
       "\n",
       "    .dataframe tbody tr th {\n",
       "        vertical-align: top;\n",
       "    }\n",
       "\n",
       "    .dataframe thead th {\n",
       "        text-align: right;\n",
       "    }\n",
       "</style>\n",
       "<table border=\"1\" class=\"dataframe\">\n",
       "  <thead>\n",
       "    <tr style=\"text-align: right;\">\n",
       "      <th></th>\n",
       "      <th>국가</th>\n",
       "      <th>일자</th>\n",
       "      <th>발생률</th>\n",
       "    </tr>\n",
       "  </thead>\n",
       "  <tbody>\n",
       "    <tr>\n",
       "      <th>763</th>\n",
       "      <td>Afghanistan</td>\n",
       "      <td>22.03.28</td>\n",
       "      <td>4458.393</td>\n",
       "    </tr>\n",
       "    <tr>\n",
       "      <th>1538</th>\n",
       "      <td>Africa</td>\n",
       "      <td>22.03.28</td>\n",
       "      <td>8374.097</td>\n",
       "    </tr>\n",
       "    <tr>\n",
       "      <th>2301</th>\n",
       "      <td>Albania</td>\n",
       "      <td>22.03.28</td>\n",
       "      <td>95175.176</td>\n",
       "    </tr>\n",
       "    <tr>\n",
       "      <th>3064</th>\n",
       "      <td>Algeria</td>\n",
       "      <td>22.03.28</td>\n",
       "      <td>5953.857</td>\n",
       "    </tr>\n",
       "    <tr>\n",
       "      <th>3821</th>\n",
       "      <td>Andorra</td>\n",
       "      <td>22.03.28</td>\n",
       "      <td>513392.973</td>\n",
       "    </tr>\n",
       "    <tr>\n",
       "      <th>...</th>\n",
       "      <td>...</td>\n",
       "      <td>...</td>\n",
       "      <td>...</td>\n",
       "    </tr>\n",
       "    <tr>\n",
       "      <th>168819</th>\n",
       "      <td>Wallis and Futuna</td>\n",
       "      <td>22.03.28</td>\n",
       "      <td>40923.021</td>\n",
       "    </tr>\n",
       "    <tr>\n",
       "      <th>169616</th>\n",
       "      <td>World</td>\n",
       "      <td>22.03.28</td>\n",
       "      <td>61247.894</td>\n",
       "    </tr>\n",
       "    <tr>\n",
       "      <th>170334</th>\n",
       "      <td>Yemen</td>\n",
       "      <td>22.03.28</td>\n",
       "      <td>387.102</td>\n",
       "    </tr>\n",
       "    <tr>\n",
       "      <th>171075</th>\n",
       "      <td>Zambia</td>\n",
       "      <td>22.03.28</td>\n",
       "      <td>16730.392</td>\n",
       "    </tr>\n",
       "    <tr>\n",
       "      <th>171814</th>\n",
       "      <td>Zimbabwe</td>\n",
       "      <td>22.03.28</td>\n",
       "      <td>16295.005</td>\n",
       "    </tr>\n",
       "  </tbody>\n",
       "</table>\n",
       "<p>228 rows × 3 columns</p>\n",
       "</div>"
      ],
      "text/plain": [
       "                       국가        일자         발생률\n",
       "763           Afghanistan  22.03.28    4458.393\n",
       "1538               Africa  22.03.28    8374.097\n",
       "2301              Albania  22.03.28   95175.176\n",
       "3064              Algeria  22.03.28    5953.857\n",
       "3821              Andorra  22.03.28  513392.973\n",
       "...                   ...       ...         ...\n",
       "168819  Wallis and Futuna  22.03.28   40923.021\n",
       "169616              World  22.03.28   61247.894\n",
       "170334              Yemen  22.03.28     387.102\n",
       "171075             Zambia  22.03.28   16730.392\n",
       "171814           Zimbabwe  22.03.28   16295.005\n",
       "\n",
       "[228 rows x 3 columns]"
      ]
     },
     "execution_count": 2,
     "metadata": {},
     "output_type": "execute_result"
    }
   ],
   "source": [
    "import pandas as pd\n",
    "import numpy as np\n",
    "df = pd.read_excel('owid-covid-data.xlsx', usecols='C,D,K')\n",
    "df.rename(columns={'location':'국가','date':'일자', 'total_cases_per_million':'발생률'}, inplace=True)\n",
    "df = df.fillna(0)\n",
    "df['일자'] = pd.to_datetime(df['일자'])\n",
    "df['일자'] = df['일자'].dt.strftime('%y.%m.%d')\n",
    "df = df[df['일자'] == '22.03.28']\n",
    "df"
   ]
  },
  {
   "cell_type": "code",
   "execution_count": 3,
   "id": "bc131394",
   "metadata": {},
   "outputs": [
    {
     "data": {
      "text/html": [
       "<div>\n",
       "<style scoped>\n",
       "    .dataframe tbody tr th:only-of-type {\n",
       "        vertical-align: middle;\n",
       "    }\n",
       "\n",
       "    .dataframe tbody tr th {\n",
       "        vertical-align: top;\n",
       "    }\n",
       "\n",
       "    .dataframe thead th {\n",
       "        text-align: right;\n",
       "    }\n",
       "</style>\n",
       "<table border=\"1\" class=\"dataframe\">\n",
       "  <thead>\n",
       "    <tr style=\"text-align: right;\">\n",
       "      <th></th>\n",
       "      <th>국가</th>\n",
       "      <th>발생률</th>\n",
       "    </tr>\n",
       "  </thead>\n",
       "  <tbody>\n",
       "    <tr>\n",
       "      <th>53232</th>\n",
       "      <td>Faeroe Islands</td>\n",
       "      <td>706541.904</td>\n",
       "    </tr>\n",
       "    <tr>\n",
       "      <th>42619</th>\n",
       "      <td>Denmark</td>\n",
       "      <td>523959.533</td>\n",
       "    </tr>\n",
       "    <tr>\n",
       "      <th>3821</th>\n",
       "      <td>Andorra</td>\n",
       "      <td>513392.973</td>\n",
       "    </tr>\n",
       "  </tbody>\n",
       "</table>\n",
       "</div>"
      ],
      "text/plain": [
       "                   국가         발생률\n",
       "53232  Faeroe Islands  706541.904\n",
       "42619         Denmark  523959.533\n",
       "3821          Andorra  513392.973"
      ]
     },
     "execution_count": 3,
     "metadata": {},
     "output_type": "execute_result"
    }
   ],
   "source": [
    "country_with_rank = df[['국가', '발생률']]\n",
    "country_with_rank = country_with_rank.sort_values(by=['발생률'], ascending=0)\n",
    "country_with_rank.head(3)"
   ]
  },
  {
   "cell_type": "code",
   "execution_count": 4,
   "id": "044b37f2",
   "metadata": {},
   "outputs": [
    {
     "data": {
      "image/png": "[encoded data removed]",
      "text/plain": [
       "<Figure size 432x288 with 1 Axes>"
      ]
     },
     "metadata": {
      "needs_background": "light"
     },
     "output_type": "display_data"
    }
   ],
   "source": [
    "country_list = country_with_rank['국가'].tolist()\n",
    "x_pos = np.arange(len(country_list))\n",
    "rank = country_with_rank['발생률'].tolist()\n",
    "\n",
    "bar_list = plt.bar(x_pos, rank)\n",
    "bar_list[country_list.index('South Korea')].set_color('r')\n",
    "plt.title('국가별 코로나 발생률')\n",
    "plt.axis([0, 228, 0, 800000])\n",
    "\n",
    "korea_rank = country_list.index('South Korea')\n",
    "korea_incidence_rate = country_with_rank[country_with_rank['국가'] == 'South Korea']['발생률'].values[0]\n",
    "plt.annotate('South Korea : ' + str(korea_rank + 1) + 'th',\n",
    "            xy=(korea_rank, korea_incidence_rate),\n",
    "            xytext=(korea_rank + 15, korea_incidence_rate + 150000),\n",
    "            arrowprops=dict(facecolor='red', shrink=0.05))\n",
    "\n",
    "plt.show()"
   ]
  }
 ],
 "metadata": {
  "kernelspec": {
   "display_name": "Python 3 (ipykernel)",
   "language": "python",
   "name": "python3"
  },
  "language_info": {
   "codemirror_mode": {
    "name": "ipython",
    "version": 3
   },
   "file_extension": ".py",
   "mimetype": "text/x-python",
   "name": "python",
   "nbconvert_exporter": "python",
   "pygments_lexer": "ipython3",
   "version": "3.9.7"
  }
 },
 "nbformat": 4,
 "nbformat_minor": 5
}
