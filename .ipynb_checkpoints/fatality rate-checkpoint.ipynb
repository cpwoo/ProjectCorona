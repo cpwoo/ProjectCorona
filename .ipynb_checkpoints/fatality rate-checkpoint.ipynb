{
 "cells": [
  {
   "cell_type": "code",
   "execution_count": 1,
   "id": "1694ac59",
   "metadata": {},
   "outputs": [],
   "source": [
    "import matplotlib.pyplot as plt\n",
    "import matplotlib\n",
    "matplotlib.rcParams['font.family'] = 'Malgun Gothic'\n",
    "matplotlib.rcParams['font.size'] = 15\n",
    "matplotlib.rcParams['axes.unicode_minus'] = False"
   ]
  },
  {
   "cell_type": "code",
   "execution_count": null,
   "id": "2d219a7e",
   "metadata": {},
   "outputs": [],
   "source": [
    "import pandas as pd\n",
    "import numpy as np\n",
    "df = pd.read_excel('owid-covid-data.xlsx', usecols='C,D,E,H')"
   ]
  },
  {
   "cell_type": "code",
   "execution_count": null,
   "id": "c89c91c3",
   "metadata": {},
   "outputs": [],
   "source": [
    "df.rename(columns={'location':'국가','date':'일자','total_cases':'확진자','total_deaths':'사망자'}, inplace=True)\n",
    "df = df.fillna(0)\n",
    "df['일자'] = pd.to_datetime(df['일자'])\n",
    "df['일자'] = df['일자'].dt.strftime('%y.%m.%d')\n",
    "df[['확진자', '사망자']] = df[['확진자', '사망자']].astype(int)\n",
    "df = df[df['국가'] == 'World']\n",
    "df"
   ]
  },
  {
   "cell_type": "code",
   "execution_count": null,
   "id": "a8664e39",
   "metadata": {},
   "outputs": [],
   "source": [
    "df['치명률'] = df['사망자'] / df['확진자'] * 100\n",
    "df"
   ]
  },
  {
   "cell_type": "code",
   "execution_count": null,
   "id": "2a4873de",
   "metadata": {},
   "outputs": [],
   "source": [
    "x = df['일자']; y = df['확진자']\n",
    "plt.title('전세계 코로나19 누적확진자')\n",
    "plt.plot(x, y, color='k')\n",
    "plt.xticks(range(0, len(x), (len(x)-1)//4))\n",
    "plt.show()"
   ]
  },
  {
   "cell_type": "code",
   "execution_count": null,
   "id": "c22d4f20",
   "metadata": {},
   "outputs": [],
   "source": [
    "x = df['일자']; y = df['사망자']\n",
    "plt.title('전세계 코로나19 누적사망자')\n",
    "plt.plot(x, y, color='k')\n",
    "plt.xticks(range(0, len(x), (len(x)-1)//4))\n",
    "plt.show()"
   ]
  },
  {
   "cell_type": "code",
   "execution_count": null,
   "id": "8da3c440",
   "metadata": {},
   "outputs": [],
   "source": [
    "x = df['일자']; y = df['치명률']\n",
    "plt.title('전세계 코로나19 치명률')\n",
    "plt.plot(x, y, color='k')\n",
    "plt.xticks(range(0, len(x), (len(x)-1)//4))\n",
    "plt.show()"
   ]
  },
  {
   "cell_type": "code",
   "execution_count": null,
   "id": "24068982",
   "metadata": {},
   "outputs": [],
   "source": [
    "df30 = df.tail(30)\n",
    "df30"
   ]
  },
  {
   "cell_type": "code",
   "execution_count": null,
   "id": "ef560b01",
   "metadata": {},
   "outputs": [],
   "source": [
    "x = df30['일자']; y = df30['치명률']\n",
    "plt.title('전세계 코로나19 치명률 최근 30일')\n",
    "plt.plot(x, y, color='k')\n",
    "plt.xticks(range(0, len(x), (len(x)-1)//4))\n",
    "plt.show()"
   ]
  }
 ],
 "metadata": {
  "kernelspec": {
   "display_name": "Python 3 (ipykernel)",
   "language": "python",
   "name": "python3"
  },
  "language_info": {
   "codemirror_mode": {
    "name": "ipython",
    "version": 3
   },
   "file_extension": ".py",
   "mimetype": "text/x-python",
   "name": "python",
   "nbconvert_exporter": "python",
   "pygments_lexer": "ipython3",
   "version": "3.9.7"
  },
  "vscode": {
   "interpreter": {
    "hash": "fb4569285eef3a3450cb62085a5b1e0da4bce0af555edc33dcf29baf3acc1368"
   }
  }
 },
 "nbformat": 4,
 "nbformat_minor": 5
}
