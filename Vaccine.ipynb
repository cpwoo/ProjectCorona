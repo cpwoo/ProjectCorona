{
 "cells": [
  {
   "cell_type": "code",
   "execution_count": 1,
   "id": "3706c123",
   "metadata": {},
   "outputs": [],
   "source": [
    "import matplotlib.pyplot as plt\n",
    "import matplotlib\n",
    "matplotlib.rcParams['font.family'] = 'Malgun Gothic'\n",
    "matplotlib.rcParams['font.size'] = 15\n",
    "matplotlib.rcParams['axes.unicode_minus'] = False"
   ]
  },
  {
   "cell_type": "code",
   "execution_count": null,
   "id": "b8049138",
   "metadata": {},
   "outputs": [],
   "source": [
    "import pandas as pd\n",
    "import numpy as np\n",
    "df = pd.read_excel('owid-covid-data.xlsx', usecols='C:D,AJ:AL,AP:AR')\n",
    "df = df[df['location'] == 'South Korea']\n",
    "df.rename(columns={'location':'국가','date':'일자','people_vaccinated':'1차접종',\n",
    "                  'people_fully_vaccinated':'2차접종','total_boosters':'3차접종',\n",
    "                  'people_vaccinated_per_hundred':'1차접종률',\n",
    "                  'people_fully_vaccinated_per_hundred':'2차접종률',\n",
    "                  'total_boosters_per_hundred':'3차접종률'}, inplace=True)\n",
    "df = df.fillna(0)\n",
    "df['일자'] = pd.to_datetime(df['일자'])\n",
    "df['일자'] = df['일자'].dt.strftime('%y.%m.%d')\n",
    "df = df[df['일자'] >= '21.02.26']\n",
    "df[['1차접종','2차접종','3차접종']] = df[['1차접종','2차접종','3차접종']].astype(int)\n",
    "df"
   ]
  },
  {
   "cell_type": "code",
   "execution_count": null,
   "id": "b13f28ea",
   "metadata": {},
   "outputs": [],
   "source": [
    "x = df['일자']; y1 = df['1차접종률']; y2 = df['2차접종률']; y3 = df['3차접종률']\n",
    "plt.plot(x, y1, color='#00a000')\n",
    "plt.plot(x, y2, color='#008000')\n",
    "plt.plot(x, y3, color='#006600')\n",
    "plt.fill_between(x[0:], y1[0:], color='#00a000', alpha=0.5)\n",
    "plt.fill_between(x[0:], y2[0:], color='#008000', alpha=0.5)\n",
    "plt.fill_between(x[0:], y3[0:], color='#006600', alpha=0.5)\n",
    "plt.xticks(range(0, len(x)-1, (len(x)-1)//4))\n",
    "labels = ['0%', '20%', '40%', '60%', '80%']\n",
    "plt.yticks(range(0, 100, 20), labels=labels)\n",
    "plt.title('대한민국 백신접종률')\n",
    "plt.show()"
   ]
  }
 ],
 "metadata": {
  "kernelspec": {
   "display_name": "Python 3 (ipykernel)",
   "language": "python",
   "name": "python3"
  },
  "language_info": {
   "codemirror_mode": {
    "name": "ipython",
    "version": 3
   },
   "file_extension": ".py",
   "mimetype": "text/x-python",
   "name": "python",
   "nbconvert_exporter": "python",
   "pygments_lexer": "ipython3",
   "version": "3.9.7"
  }
 },
 "nbformat": 4,
 "nbformat_minor": 5
}
